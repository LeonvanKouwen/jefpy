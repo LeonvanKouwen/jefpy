{
 "cells": [
  {
   "cell_type": "code",
   "execution_count": null,
   "metadata": {},
   "outputs": [],
   "source": [
    "%load_ext autoreload\n",
    "%autoreload 2\n",
    "\n",
    "import sys \n",
    "sys.path.insert(0, '..')\n",
    "import jefpy as jp\n",
    "import numpy as np\n",
    "import matplotlib.pyplot as plt\n",
    "\n",
    "%matplotlib qt"
   ]
  },
  {
   "cell_type": "markdown",
   "metadata": {},
   "source": [
    "### Define an oscillating electric dipole"
   ]
  },
  {
   "cell_type": "code",
   "execution_count": null,
   "metadata": {},
   "outputs": [],
   "source": [
    "dipole_settings = {\n",
    "    'power': 1.0,\n",
    "    'orientation': [0, 0, 1.0],\n",
    "    'freq': 100e6,\n",
    "    'location': [0, 0, 0]}\n",
    "dipole_1 = jp.ElectricDipole.oscillator(**dipole_settings)\n",
    "\n",
    "dipole_settings['freq'] = 70e6\n",
    "dipole_2 = jp.ElectricDipole.oscillator(**dipole_settings)\n",
    "\n",
    "sources = dipole_1 + dipole_2"
   ]
  },
  {
   "cell_type": "markdown",
   "metadata": {},
   "source": [
    "### Time Series"
   ]
  },
  {
   "cell_type": "code",
   "execution_count": null,
   "metadata": {},
   "outputs": [],
   "source": [
    "observer = jp.Observer([-5.0, -5.0, -40.0], sources)\n",
    "tplot = jp.TimeSeries(observer.E)\n",
    "tplot(np.linspace(0.0, 20.0e-8, 1000))"
   ]
  },
  {
   "cell_type": "code",
   "execution_count": null,
   "metadata": {},
   "outputs": [],
   "source": [
    "observer = jp.Observer([10, 0.0, 0.0], sources)\n",
    "tplot = jp.TimeSeries(observer.E)\n",
    "tplot(np.linspace(0.0, 20.0e-8, 1000))"
   ]
  },
  {
   "cell_type": "markdown",
   "metadata": {},
   "source": [
    "### Field movie\n"
   ]
  },
  {
   "cell_type": "code",
   "execution_count": null,
   "metadata": {},
   "outputs": [],
   "source": [
    "xrange, zrange = [-2.0, 2.0], [-4.0, 4.0]\n",
    "surface_settings = {\n",
    "    'x': np.linspace(*xrange, 40),\n",
    "    'y': 0.5,\n",
    "    'z': np.linspace(*zrange, 50)}\n",
    "surface = jp.Surface.cartesian(**surface_settings)\n",
    "\n",
    "observer = jp.Observer(surface.XYZ, dipole_1, observable=1)\n",
    "\n",
    "visual = jp.MovieMap(observer.B)\n",
    "visual.ax.set_xlabel('x (m)')\n",
    "visual.ax.set_ylabel('z (m)')\n",
    "visual.title = \"By (V/m)\"\n",
    "visual.range = xrange + zrange\n",
    "visual.snapshot(0.0)"
   ]
  },
  {
   "cell_type": "code",
   "execution_count": null,
   "metadata": {},
   "outputs": [],
   "source": [
    "visual.live(slow_motion=5e-9, run_time=10)"
   ]
  },
  {
   "cell_type": "markdown",
   "metadata": {},
   "source": [
    "Save as mp4 to disk is possible: \n",
    "\n",
    "visual.record(\n",
    "    filename='movie.mp4',\n",
    "    sim_time=1e-9, \n",
    "    slowmotion=1e-9, \n",
    "    t0=0.0,\n",
    "    FPS=30, \n",
    "    dpi=300\n",
    ")"
   ]
  },
  {
   "cell_type": "markdown",
   "metadata": {},
   "source": [
    "### Live time series"
   ]
  },
  {
   "cell_type": "code",
   "execution_count": null,
   "metadata": {},
   "outputs": [],
   "source": [
    "observer = jp.Observer(([1, 1, 2], [2, 3, 4]), sources)\n",
    "visual = jp.Movie3Axes(observer.E, num_data_visible=50)\n",
    "visual.live(run_time=10, slow_motion=3e-9)"
   ]
  },
  {
   "cell_type": "markdown",
   "metadata": {},
   "source": [
    "### Quiver plot"
   ]
  },
  {
   "cell_type": "code",
   "execution_count": null,
   "metadata": {},
   "outputs": [],
   "source": [
    "xrange, yrange = [-4.0, 4.0], [-4.0, 4.0]\n",
    "surface_settings = {\n",
    "    'x': np.linspace(*xrange, 20),\n",
    "    'y': np.linspace(*yrange, 20),\n",
    "    'z': 2.5}\n",
    "surface = jp.Surface.cartesian(**surface_settings)"
   ]
  },
  {
   "cell_type": "code",
   "execution_count": null,
   "metadata": {},
   "outputs": [],
   "source": [
    "observer = jp.Observer(surface.XYZ, dipole_1, observable=(0, 1))\n",
    "visual = jp.MovieFlux(surface.UV, observer.B)\n",
    "visual.title = \"B (V/m)\"\n",
    "visual.range = xrange + yrange\n",
    "visual.live(run_time=10, slow_motion=3e-9)"
   ]
  },
  {
   "cell_type": "code",
   "execution_count": null,
   "metadata": {},
   "outputs": [],
   "source": [
    "visual = jp.MovieFlux(surface.UV, observer.S)\n",
    "visual.live(run_time=5, slow_motion=3e-9)"
   ]
  },
  {
   "cell_type": "markdown",
   "metadata": {},
   "source": [
    "### Fancy Quiver plot: E and B\n",
    "Note that z = 2.5 m"
   ]
  },
  {
   "cell_type": "code",
   "execution_count": null,
   "metadata": {},
   "outputs": [],
   "source": [
    "visual = jp.MovieFluxEB(surface.UV, observer.E, observer.B)\n",
    "visual.live(run_time=10, slow_motion=3e-9)"
   ]
  }
 ],
 "metadata": {
  "kernelspec": {
   "display_name": "Python 3",
   "language": "python",
   "name": "python3"
  },
  "language_info": {
   "codemirror_mode": {
    "name": "ipython",
    "version": 3
   },
   "file_extension": ".py",
   "mimetype": "text/x-python",
   "name": "python",
   "nbconvert_exporter": "python",
   "pygments_lexer": "ipython3",
   "version": "3.8.0"
  }
 },
 "nbformat": 4,
 "nbformat_minor": 2
}
