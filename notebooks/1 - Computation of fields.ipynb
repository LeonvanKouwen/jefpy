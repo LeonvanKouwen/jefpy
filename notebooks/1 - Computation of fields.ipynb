{
 "cells": [
  {
   "cell_type": "code",
   "execution_count": null,
   "metadata": {},
   "outputs": [],
   "source": [
    "%load_ext autoreload\n",
    "%autoreload 2\n",
    "\n",
    "import sys \n",
    "sys.path.insert(0, '..')\n",
    "import jefpy as jp\n",
    "import numpy as np\n",
    "import matplotlib.pyplot as plt\n",
    "\n",
    "%matplotlib qt"
   ]
  },
  {
   "cell_type": "markdown",
   "metadata": {},
   "source": [
    "## Static dipole"
   ]
  },
  {
   "cell_type": "code",
   "execution_count": null,
   "metadata": {},
   "outputs": [],
   "source": [
    "dipole = jp.ElectricDipole(location=[0, 1, 3], p=[0, 0, 1])\n",
    "print(dipole.B([2, 1, 5]))\n",
    "print(dipole.E([2, 1, 5]))"
   ]
  },
  {
   "cell_type": "markdown",
   "metadata": {},
   "source": [
    "Requesting the field at different times gives the same answer for this static example. "
   ]
  },
  {
   "cell_type": "code",
   "execution_count": null,
   "metadata": {},
   "outputs": [],
   "source": [
    "print(dipole.E([2, 1, 5], [0.0, 1.0, 2.0]))"
   ]
  },
  {
   "cell_type": "markdown",
   "metadata": {},
   "source": [
    "A source can be moving through space. Use a call-back for the location."
   ]
  },
  {
   "cell_type": "code",
   "execution_count": null,
   "metadata": {},
   "outputs": [],
   "source": [
    "def location(t):\n",
    "    return np.array([1, 2, 3]) * np.cos(t)\n",
    "\n",
    "dipole = jp.ElectricDipole(location=location, p=[0, 0, 1])"
   ]
  },
  {
   "cell_type": "code",
   "execution_count": null,
   "metadata": {},
   "outputs": [],
   "source": [
    "print(dipole.E([10, 10, -10], np.linspace(0, 3, 10)))"
   ]
  },
  {
   "cell_type": "code",
   "execution_count": null,
   "metadata": {},
   "outputs": [],
   "source": [
    "print(dipole.E([[10, 10, -10], [5, 5, 5]], np.linspace(0, 0.5, 5)).shape)"
   ]
  },
  {
   "cell_type": "markdown",
   "metadata": {},
   "source": [
    "Note the polymorphism for the shapes of r and t. The returned fields have the following structure: The first dimension is time if time is an array; the last dimension is x, y, z; the middle dimensions are spatial variation. "
   ]
  },
  {
   "cell_type": "markdown",
   "metadata": {},
   "source": [
    "### Surface"
   ]
  },
  {
   "cell_type": "code",
   "execution_count": null,
   "metadata": {},
   "outputs": [],
   "source": [
    "xrange, yrange = [-100.0, 100.0], [-50.0, 50.0]\n",
    "surface_settings = {\n",
    "    'x': np.linspace(*xrange, 10),\n",
    "    'y': np.linspace(*yrange, 5),\n",
    "    'z': 0}\n",
    "surface = jp.Surface.cartesian(**surface_settings)\n",
    "\n",
    "print(surface.XYZ.shape)\n",
    "print(surface.U.shape)"
   ]
  },
  {
   "cell_type": "code",
   "execution_count": null,
   "metadata": {},
   "outputs": [],
   "source": [
    "dipole = jp.ElectricDipole(location=[0, 0, 0.0], p=[0, 1, 0])\n",
    "\n",
    "xrange, yrange = [-100.0, 100.0], [-100.0, 100.0]\n",
    "surface_settings = {\n",
    "    'x': np.linspace(*xrange, 20),\n",
    "    'y': np.linspace(*yrange, 20),\n",
    "    'z': 0}\n",
    "surface = jp.Surface.cartesian(**surface_settings)\n",
    "\n",
    "E = dipole.E(surface.XYZ)\n",
    "Ex = E[..., 0].T\n",
    "Ey = E[..., 1].T\n",
    "\n",
    "plt.figure()\n",
    "plt.streamplot(surface.u, surface.v, Ex, Ey)"
   ]
  },
  {
   "cell_type": "markdown",
   "metadata": {},
   "source": [
    "## Oscillating dipole"
   ]
  },
  {
   "cell_type": "code",
   "execution_count": null,
   "metadata": {},
   "outputs": [],
   "source": [
    "dipole = jp.ElectricDipole.oscillator()"
   ]
  },
  {
   "cell_type": "code",
   "execution_count": null,
   "metadata": {},
   "outputs": [],
   "source": [
    "dipole_settings = {\n",
    "    'power': 1.0,\n",
    "    'orientation': [0, 0, 1],\n",
    "    'freq': 200e6,\n",
    "    'location': [0, 0, 0]}\n",
    "dipole = jp.ElectricDipole.oscillator(**dipole_settings)"
   ]
  },
  {
   "cell_type": "code",
   "execution_count": null,
   "metadata": {},
   "outputs": [],
   "source": [
    "print(dipole.B([1.0, 1, 1], 0.0))\n",
    "print(dipole.B([1.0, 1, 1], 1e-10))\n",
    "print(dipole.E([1.0, 1, 1], 0.0))\n",
    "print(dipole.E([1.0, 1, 1], 1e-10))"
   ]
  },
  {
   "cell_type": "markdown",
   "metadata": {},
   "source": [
    "We can have two dipoles (the second one moving in space)"
   ]
  },
  {
   "cell_type": "code",
   "execution_count": null,
   "metadata": {},
   "outputs": [],
   "source": [
    "# Dipole source 2\n",
    "dipole_settings = {\n",
    "    'power': 1.0,\n",
    "    'orientation': [0, 0, 1],\n",
    "    'freq': 270e6,\n",
    "    'location': lambda t: np.array([1, 0, 1]) * t }\n",
    "\n",
    "dipole_2 = jp.ElectricDipole.oscillator(**dipole_settings)"
   ]
  },
  {
   "cell_type": "code",
   "execution_count": null,
   "metadata": {},
   "outputs": [],
   "source": [
    "dipole.E([5.0, 5.0, 5.0], 0.0) + dipole_2.E([5.0, 5.0, 5.0], np.linspace(0, 0.5, 5))"
   ]
  },
  {
   "cell_type": "markdown",
   "metadata": {},
   "source": [
    "## Source Collections\n",
    "Multiple sources can be combined in a SourceCollection to achieve simpler interfacing. "
   ]
  },
  {
   "cell_type": "code",
   "execution_count": null,
   "metadata": {},
   "outputs": [],
   "source": [
    "sources = jp.SourceCollection({'dip 1': dipole, 'dip 2': dipole_2})\n",
    "sources"
   ]
  },
  {
   "cell_type": "code",
   "execution_count": null,
   "metadata": {},
   "outputs": [],
   "source": [
    "sources.E([5.0, 5.0, 5.0], np.linspace(0, 0.5, 5))"
   ]
  },
  {
   "cell_type": "markdown",
   "metadata": {},
   "source": [
    "Source collections are the main datastructure of jefpy and can be created in many intuitive ways:"
   ]
  },
  {
   "cell_type": "code",
   "execution_count": null,
   "metadata": {},
   "outputs": [],
   "source": [
    "from pprint import pprint\n",
    "\n",
    "sources = jp.SourceCollection()\n",
    "sources['source 1'] = dipole\n",
    "sources['source 2'] = dipole_2\n",
    "pprint(sources)\n",
    "print(\" ----  \")\n",
    "\n",
    "\n",
    "sources = jp.SourceCollection((dipole, dipole_2))\n",
    "pprint(sources)\n",
    "print(\" ----  \")\n",
    "\n",
    "sources = dipole + dipole_2\n",
    "pprint(sources)\n",
    "print(\" ----  \")\n",
    "\n",
    "sources = sources + dipole_2\n",
    "pprint(sources)\n",
    "print(\" ----  \")\n",
    "\n",
    "sources['named source'] = jp.MagneticDipole()\n",
    "pprint(sources)\n",
    "print(\" ----  \")\n",
    "\n",
    "source_col_1 = jp.ElectricDipole() + jp.MagneticDipole()\n",
    "source_col_2 = jp.ElectricDipole() + jp.MagneticDipole()\n",
    "sources = source_col_1 + source_col_2\n",
    "pprint(sources)"
   ]
  },
  {
   "cell_type": "markdown",
   "metadata": {},
   "source": [
    "## Observers\n",
    "If you have a fixed set of observation location it can be convenient to define an observer."
   ]
  },
  {
   "cell_type": "code",
   "execution_count": null,
   "metadata": {},
   "outputs": [],
   "source": [
    "r1 = [-5.0, -5.0, -4.0]\n",
    "r2 = [5.0, 5.0, 5.0]\n",
    "r3 = [5.0, 5.0, 6.0]\n",
    "r4 = [5.0, 5.0, 7.0]\n",
    "\n",
    "sources = jp.SourceCollection({'dip 1': dipole, 'dip 2': dipole_2})\n",
    "observer = jp.Observer((r1, r2, r3, r4), sources)"
   ]
  },
  {
   "cell_type": "code",
   "execution_count": null,
   "metadata": {},
   "outputs": [],
   "source": [
    "observer.E(0.2)"
   ]
  },
  {
   "cell_type": "code",
   "execution_count": null,
   "metadata": {},
   "outputs": [],
   "source": [
    "observer.B(0.1)"
   ]
  },
  {
   "cell_type": "markdown",
   "metadata": {},
   "source": [
    "It is actually possible to define it a little shorter"
   ]
  },
  {
   "cell_type": "code",
   "execution_count": null,
   "metadata": {},
   "outputs": [],
   "source": [
    "observer = jp.Observer((r1, r2, r3, r4), {'dip 1': dipole, 'dip 2': dipole_2})"
   ]
  },
  {
   "cell_type": "markdown",
   "metadata": {},
   "source": [
    "or even shorter"
   ]
  },
  {
   "cell_type": "code",
   "execution_count": null,
   "metadata": {},
   "outputs": [],
   "source": [
    "observer = jp.Observer((r1, r2, r3, r4), (dipole, dipole_2))"
   ]
  },
  {
   "cell_type": "markdown",
   "metadata": {},
   "source": [
    "Some basic time based plotting."
   ]
  },
  {
   "cell_type": "code",
   "execution_count": null,
   "metadata": {},
   "outputs": [],
   "source": []
  },
  {
   "cell_type": "code",
   "execution_count": null,
   "metadata": {},
   "outputs": [],
   "source": []
  },
  {
   "cell_type": "code",
   "execution_count": null,
   "metadata": {},
   "outputs": [],
   "source": []
  }
 ],
 "metadata": {
  "kernelspec": {
   "display_name": "Python 3",
   "language": "python",
   "name": "python3"
  },
  "language_info": {
   "codemirror_mode": {
    "name": "ipython",
    "version": 3
   },
   "file_extension": ".py",
   "mimetype": "text/x-python",
   "name": "python",
   "nbconvert_exporter": "python",
   "pygments_lexer": "ipython3",
   "version": "3.8.0"
  }
 },
 "nbformat": 4,
 "nbformat_minor": 2
}
