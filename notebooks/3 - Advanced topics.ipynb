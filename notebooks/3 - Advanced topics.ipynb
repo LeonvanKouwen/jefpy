{
 "cells": [
  {
   "cell_type": "code",
   "execution_count": null,
   "metadata": {},
   "outputs": [],
   "source": [
    "%load_ext autoreload\n",
    "%autoreload 2\n",
    "\n",
    "import sys \n",
    "sys.path.insert(0, '..')\n",
    "import jefpy as jp\n",
    "import numpy as np\n",
    "import matplotlib.pyplot as plt\n",
    "\n",
    "%matplotlib qt"
   ]
  },
  {
   "cell_type": "markdown",
   "metadata": {},
   "source": [
    "## Wires\n",
    "`help(jp.Wire)`\n",
    "Note the class methods for common wire configurations. "
   ]
  },
  {
   "cell_type": "markdown",
   "metadata": {},
   "source": [
    "### Circular wire"
   ]
  },
  {
   "cell_type": "code",
   "execution_count": null,
   "metadata": {},
   "outputs": [],
   "source": [
    "osc = jp.HarmonicOscillator(phase=2.0, freq=300e6)\n",
    "wire = jp.Wire.circle(I=osc.f, dI_dt=osc.df_dt)\n",
    "jp.inspect_segments(wire.get_segmentation())\n",
    "print(wire.E([0, 1, 2], 0), wire.B([0, 1, 2], 0))"
   ]
  },
  {
   "cell_type": "code",
   "execution_count": null,
   "metadata": {},
   "outputs": [],
   "source": [
    "xrange, zrange = [-4.0, 4.0], [-4.0, 4.0]\n",
    "surface_settings = {\n",
    "    'x': np.linspace(*xrange, 80),\n",
    "    'y': 0.5,\n",
    "    'z': np.linspace(*zrange, 80)}\n",
    "surface = jp.Surface.cartesian(**surface_settings)\n",
    "\n",
    "observer = jp.Observer(surface.XYZ, wire, observable='norm')\n",
    "\n",
    "visual = jp.MovieMap(observer.B)\n",
    "visual.ax.set_xlabel('x (m)')\n",
    "visual.ax.set_ylabel('z (m)')\n",
    "visual.range = xrange + zrange\n",
    "visual.live(slow_motion=1e-9, run_time=10)"
   ]
  },
  {
   "cell_type": "markdown",
   "metadata": {},
   "source": [
    "## Coil"
   ]
  },
  {
   "cell_type": "code",
   "execution_count": null,
   "metadata": {},
   "outputs": [],
   "source": [
    "num_windings = 20\n",
    "width = 4\n",
    "\n",
    "def coil(s, t):\n",
    "    x = np.cos(2 * np. pi * num_windings * s)\n",
    "    y = np.sin(2 * np. pi * num_windings * s)\n",
    "    z = (s - 0.5) * width\n",
    "    return np.array((x, y, z))\n",
    "\n",
    "osc = jp.HarmonicOscillator(phase=2.0)\n",
    "wire = jp.Wire.curve(coil, I=1.0, num_segments=200)\n",
    "jp.inspect_segments(wire.get_segmentation())"
   ]
  },
  {
   "cell_type": "code",
   "execution_count": null,
   "metadata": {},
   "outputs": [],
   "source": [
    "xrange, zrange = [-4.0, 4.0], [-4.0, 4.0]\n",
    "surface_settings = {\n",
    "    'x': np.linspace(*xrange, 80),\n",
    "    'y': 0.5,\n",
    "    'z': np.linspace(*zrange, 80)}\n",
    "surface = jp.Surface.cartesian(**surface_settings)\n",
    "\n",
    "\n",
    "B = wire.B(surface.XYZ)\n",
    "\n",
    "plt.figure()\n",
    "plt.streamplot(surface.u, surface.v, B[..., 0].T, B[..., 2].T)"
   ]
  },
  {
   "cell_type": "markdown",
   "metadata": {},
   "source": [
    "### Flying Dipoles"
   ]
  },
  {
   "cell_type": "code",
   "execution_count": null,
   "metadata": {},
   "outputs": [],
   "source": [
    "def location_1(t):\n",
    "    return 3 * np.array([np.sin(80e6 * t), 0.0, np.cos(80e6 * t)])\n",
    "\n",
    "dipole_1 = jp.MagneticDipole.oscillator(location=location_1, \n",
    "                                        m=(0, 0, 2), freq=200e6)\n",
    "\n",
    "def location_2(t):\n",
    "    return 3 * np.array([np.cos(40e6 * t), 0.0, np.sin(80e6 * t)])\n",
    "\n",
    "dipole_2 = jp.MagneticDipole.oscillator(location=location_2, \n",
    "                                        m=(0, 0, 2), freq=200e6)\n",
    "\n",
    "system = jp.SourceCollection((dipole_1, dipole_2))\n",
    "                                   "
   ]
  },
  {
   "cell_type": "code",
   "execution_count": null,
   "metadata": {},
   "outputs": [],
   "source": [
    "observer = jp.Observer(surface.XYZ, system, observable='norm')\n",
    "\n",
    "visual = jp.MovieMap(observer.B)\n",
    "visual.ax.set_xlabel('x (m)')\n",
    "visual.ax.set_ylabel('z (m)')\n",
    "visual.range = xrange + zrange\n",
    "visual.live(slow_motion=5e-9, run_time=30)"
   ]
  },
  {
   "cell_type": "markdown",
   "metadata": {},
   "source": [
    "## Curvelinear coordinates\n",
    "- We consider sampling on curved surfaces\n",
    "- Transforming the field in a different coordinate system\n",
    "Take a look at: `help(jp.sampling)` and "
   ]
  },
  {
   "cell_type": "code",
   "execution_count": null,
   "metadata": {},
   "outputs": [],
   "source": [
    "osc = jp.HarmonicOscillator(freq=1e6, phase=0.5*np.pi)\n",
    "poly = ([0, 0.0, -10], [0, 0.0, 0], [0, 0.0, 10])\n",
    "wire = jp.Wire.polygon(poly, num_segments=100, I=osc.f, dI_dt=osc.df_dt)\n",
    "jp.inspect_segments(wire.get_segmentation())"
   ]
  },
  {
   "cell_type": "code",
   "execution_count": null,
   "metadata": {},
   "outputs": [],
   "source": [
    "phi = [0, 2* np.pi]\n",
    "z = [-30, 30]\n",
    "setup = {\n",
    "    'phi': np.linspace(*phi, 20),\n",
    "    'z': np.linspace(*z, 20),\n",
    "    'radius': 1.0,\n",
    "    'axis': 'z'}\n",
    "surf = jp.Surface.cylinder(**setup)\n",
    "\n",
    "fig = plt.figure()\n",
    "ax = plt.axes(projection='3d')\n",
    "ax.plot_surface(*surf.XYZ.T)\n",
    "plt.show()"
   ]
  },
  {
   "cell_type": "code",
   "execution_count": null,
   "metadata": {},
   "outputs": [],
   "source": [
    "observer = jp.Observer(surf.XYZ, wire, observable=0)\n",
    "visual = jp.MovieMap(observer.B)\n",
    "visual.settings['aspect'] = 'auto'\n",
    "visual.range = phi + z\n",
    "visual.ax.set_xlabel(\"phi (rad)\")\n",
    "visual.ax.set_ylabel(\"z (m)\")\n",
    "\n",
    "visual.live(slow_motion=3E-7)"
   ]
  },
  {
   "cell_type": "markdown",
   "metadata": {},
   "source": [
    "We are now looking at the x-coordinate on a cylinderical plane. This could be usefull in some cases, but typically one would like to transform the field as well to match the measurement plane."
   ]
  },
  {
   "cell_type": "code",
   "execution_count": null,
   "metadata": {},
   "outputs": [],
   "source": [
    "observer = jp.Observer(surf.XYZ, wire, transform=jp.to_cylindrical, observable=1)\n",
    "visual = jp.MovieMap(observer.B)\n",
    "visual.settings['aspect'] = 'auto'\n",
    "visual.range = phi + z\n",
    "visual.ax.set_xlabel(\"phi (rad)\")\n",
    "visual.ax.set_ylabel(\"z (m)\")\n",
    "\n",
    "visual.live(slow_motion=3E-7)"
   ]
  },
  {
   "cell_type": "markdown",
   "metadata": {},
   "source": [
    "It is also possible of course to transform the field and plot it at one probe location."
   ]
  },
  {
   "cell_type": "code",
   "execution_count": null,
   "metadata": {},
   "outputs": [],
   "source": [
    "obs = jp.Observer([1, 10, 20], wire, transform=jp.to_spherical)\n",
    "obs.B(np.linspace(0, 1e-6, 20))\n",
    "time_series = jp.TimeSeries(obs.B)\n",
    "time_series.ax[0].set_ylabel('B_r')\n",
    "time_series.ax[1].set_ylabel('B_theta')\n",
    "time_series.ax[2].set_ylabel('B_phi')\n",
    "time_series(np.linspace(0, 1e-6, 20))"
   ]
  },
  {
   "cell_type": "markdown",
   "metadata": {},
   "source": [
    "## Custom sources\n",
    "Note that broadcast_spacetime is optional. It handles multi-dimensional calls. "
   ]
  },
  {
   "cell_type": "code",
   "execution_count": null,
   "metadata": {},
   "outputs": [],
   "source": [
    "class Custom(jp.Source):\n",
    "\n",
    "    @jp.broadcast_spacetime\n",
    "    def E(self, r, t):\n",
    "        return [1, 0, 1.0] * np.cos(10 * t)\n",
    "    \n",
    "    @jp.broadcast_spacetime\n",
    "    def B(self, r, t):\n",
    "        return np.zeros(3) "
   ]
  },
  {
   "cell_type": "code",
   "execution_count": null,
   "metadata": {},
   "outputs": [],
   "source": [
    "source = Custom()\n",
    "source.B([0, 1, 3], 5)"
   ]
  },
  {
   "cell_type": "markdown",
   "metadata": {},
   "source": [
    "Of course such a source can be combined with probes and other sources in a Observation object. "
   ]
  },
  {
   "cell_type": "code",
   "execution_count": null,
   "metadata": {},
   "outputs": [],
   "source": []
  }
 ],
 "metadata": {
  "kernelspec": {
   "display_name": "Python 3",
   "language": "python",
   "name": "python3"
  },
  "language_info": {
   "codemirror_mode": {
    "name": "ipython",
    "version": 3
   },
   "file_extension": ".py",
   "mimetype": "text/x-python",
   "name": "python",
   "nbconvert_exporter": "python",
   "pygments_lexer": "ipython3",
   "version": "3.8.0"
  }
 },
 "nbformat": 4,
 "nbformat_minor": 2
}
